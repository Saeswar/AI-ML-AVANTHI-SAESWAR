{
  "nbformat": 4,
  "nbformat_minor": 0,
  "metadata": {
    "colab": {
      "provenance": [],
      "authorship_tag": "ABX9TyMvJYAx3wsCAuuVr6dNl0Pe",
      "include_colab_link": true
    },
    "kernelspec": {
      "name": "python3",
      "display_name": "Python 3"
    },
    "language_info": {
      "name": "python"
    }
  },
  "cells": [
    {
      "cell_type": "markdown",
      "metadata": {
        "id": "view-in-github",
        "colab_type": "text"
      },
      "source": [
        "<a href=\"https://colab.research.google.com/github/Saeswar/AI-ML-AVANTHI-SAESWAR/blob/main/Untitled1.ipynb\" target=\"_parent\"><img src=\"https://colab.research.google.com/assets/colab-badge.svg\" alt=\"Open In Colab\"/></a>"
      ]
    },
    {
      "cell_type": "markdown",
      "source": [
        "Fundamental Python Programming\n"
      ],
      "metadata": {
        "id": "3mIOd7EQL6Sp"
      }
    },
    {
      "cell_type": "markdown",
      "source": [
        "Q1. Write a Python function that takes in a list of integers and returns the sum of all elements at even indices (0-based indexing) in the list. For example, for the input list [1, 2, 3, 4, 5, 6], the function should return 9 (which is the sum of elements at indices 0, 2, and 4)."
      ],
      "metadata": {
        "id": "dzrjox8DM0Dy"
      }
    },
    {
      "cell_type": "code",
      "source": [
        "def sum_even_indices(lst):\n",
        "    return sum(lst[::2])\n",
        "my_list = [1, 2, 3, 4, 5, 6]\n",
        "result = sum_even_indices(my_list)\n",
        "print(result)"
      ],
      "metadata": {
        "colab": {
          "base_uri": "https://localhost:8080/"
        },
        "id": "y2T6T9WlL9HF",
        "outputId": "e2bcfe7a-2fd3-4713-ce52-6919e8388794"
      },
      "execution_count": 1,
      "outputs": [
        {
          "output_type": "stream",
          "name": "stdout",
          "text": [
            "9\n"
          ]
        }
      ]
    },
    {
      "cell_type": "markdown",
      "source": [
        "Q2. Write a Python function that takes a list of strings as input and returns a new list containing only the strings that have a length greater than 3 characters and start with the letter 'A'. The output list should be sorted alphabetically. For example, given the input [\"Apple\", \"Banana\", \"Ant\", \"Art\", \"Cat\"], the function should return [\"Apple\", \"Art\"].\n",
        "\n"
      ],
      "metadata": {
        "id": "eTlKZ6ZHMD3a"
      }
    },
    {
      "cell_type": "code",
      "source": [
        "def filter_and_sort_strings(input_list):\n",
        "    result_list = [string for string in input_list if len(string) > 3 and string[0].lower() == 'a']\n",
        "    result_list.sort()\n",
        "    return result_list\n",
        "input_strings = [\"Apple\", \"Banana\", \"Ant\", \"Art\", \"Cat\"]\n",
        "output_result = filter_and_sort_strings(input_strings)\n",
        "print(output_result)\n"
      ],
      "metadata": {
        "colab": {
          "base_uri": "https://localhost:8080/"
        },
        "id": "AU4qJYoGMH99",
        "outputId": "c964fefb-a386-49ad-dc23-e1a90d36a915"
      },
      "execution_count": 2,
      "outputs": [
        {
          "output_type": "stream",
          "name": "stdout",
          "text": [
            "['Apple']\n"
          ]
        }
      ]
    },
    {
      "cell_type": "markdown",
      "source": [
        "Q3. Create a Python function that takes in two lists of equal length containing integers. The function should return a new list where each element is the sum of the corresponding elements from the input lists. If the lists are a = [1, 2, 3] and b = [4, 5, 6], the function should return [5, 7, 9].\n",
        "\n"
      ],
      "metadata": {
        "id": "ACFcQZMuMNsQ"
      }
    },
    {
      "cell_type": "code",
      "source": [
        "def add_corresponding_elements(list_a, list_b):\n",
        "    result = [a + b for a, b in zip(list_a, list_b)]\n",
        "    return result\n",
        "list_a = [1, 2, 3]\n",
        "list_b = [4, 5, 6]\n",
        "result_list = add_corresponding_elements(list_a, list_b)\n",
        "print(result_list)"
      ],
      "metadata": {
        "colab": {
          "base_uri": "https://localhost:8080/"
        },
        "id": "UiCq8CysMQ_U",
        "outputId": "68fb16cd-9ca5-44bd-cda4-dda6f68e067a"
      },
      "execution_count": 3,
      "outputs": [
        {
          "output_type": "stream",
          "name": "stdout",
          "text": [
            "[5, 7, 9]\n"
          ]
        }
      ]
    },
    {
      "cell_type": "markdown",
      "source": [
        "Q4. Write a program which will find all such numbers which are divisible by 7 but are not a multiple of 5, between 2000 and 3200 (both included). The numbers obtained should be printed in a comma-separated sequence on a single line.\n",
        "\n"
      ],
      "metadata": {
        "id": "K_k_hmKLMRXv"
      }
    },
    {
      "cell_type": "code",
      "source": [],
      "metadata": {
        "id": "Fx48lwrYMRpZ"
      },
      "execution_count": 4,
      "outputs": []
    },
    {
      "cell_type": "markdown",
      "source": [
        "Q5. With a given integral number n, write a program to generate a dictionary that contains (i, i*i) such that is an integral number between 1 and n (both included). and then the program should print the dictionary. Suppose the following input is supplied to the program: 8 Then, the output should be: {1: 1, 2: 4, 3: 9, 4: 16, 5: 25, 6: 36, 7: 49, 8: 64}\n",
        "\n"
      ],
      "metadata": {
        "id": "nbstymnlMSZy"
      }
    },
    {
      "cell_type": "code",
      "source": [],
      "metadata": {
        "id": "-mSrj4RSMSsO"
      },
      "execution_count": null,
      "outputs": []
    },
    {
      "cell_type": "markdown",
      "source": [
        "Numpy Practice Questions"
      ],
      "metadata": {
        "id": "czqDQCW3MihC"
      }
    },
    {
      "cell_type": "markdown",
      "source": [
        "Q1. Given two NumPy arrays arr1 = np.array([1, 2, 3]) and arr2 = np.array([4, 5, 6]), perform element-wise addition.\n",
        "\n"
      ],
      "metadata": {
        "id": "Gy0KslJZMyM_"
      }
    },
    {
      "cell_type": "code",
      "source": [
        "import numpy as np\n",
        "arr1 = np.array([1, 2, 3])\n",
        "arr2 = np.array([4, 5, 6])\n",
        "result = arr1 + arr2\n",
        "print(result)"
      ],
      "metadata": {
        "colab": {
          "base_uri": "https://localhost:8080/"
        },
        "id": "H0x1hMdSMizb",
        "outputId": "715265cb-18cf-4b40-d9d2-d49bfc24ee96"
      },
      "execution_count": 5,
      "outputs": [
        {
          "output_type": "stream",
          "name": "stdout",
          "text": [
            "[5 7 9]\n"
          ]
        }
      ]
    },
    {
      "cell_type": "markdown",
      "source": [
        "Q2. Access and print the element at the second row and third column of a given 2D NumPy array arr.\n",
        "\n"
      ],
      "metadata": {
        "id": "46sBtXJYMjG1"
      }
    },
    {
      "cell_type": "code",
      "source": [
        "# Take the array to be: [[1,2,3,4,5], [4,2,7,8], [6,2,9,1,0]]"
      ],
      "metadata": {
        "id": "lD6RpWZAMjXt"
      },
      "execution_count": 8,
      "outputs": []
    },
    {
      "cell_type": "markdown",
      "source": [
        "Q3. Reshape a given 1D array arr of size 10 into a 2D array of shape (5, 2).\n",
        "\n"
      ],
      "metadata": {
        "id": "WBpicKlyMjo0"
      }
    },
    {
      "cell_type": "code",
      "source": [
        " #Take the array as: [1,2,3,4,5,6,7,8,9,10]\n",
        "original_array = np.array([1,2,3,4,5,6,7,8,9,10])\n",
        "reshaped_array = original_array.reshape((5,2))\n",
        "print(reshaped_array)\n",
        ""
      ],
      "metadata": {
        "colab": {
          "base_uri": "https://localhost:8080/"
        },
        "id": "rKs1E1tkNNYt",
        "outputId": "b03ccbc8-d173-4bb3-e28a-ac2e31eaff64"
      },
      "execution_count": 10,
      "outputs": [
        {
          "output_type": "stream",
          "name": "stdout",
          "text": [
            "[[ 1  2]\n",
            " [ 3  4]\n",
            " [ 5  6]\n",
            " [ 7  8]\n",
            " [ 9 10]]\n"
          ]
        }
      ]
    },
    {
      "cell_type": "markdown",
      "source": [
        "Q4. Extract the first three elements from a given NumPy array arr.\n",
        "\n"
      ],
      "metadata": {
        "id": "rnQuyrwVMj3z"
      }
    },
    {
      "cell_type": "code",
      "source": [
        "arr = np.array([1,2,3,4,5,6,7,8,9,10])\n",
        "first_three_elements = arr[:3]\n",
        "print(first_three_elements)"
      ],
      "metadata": {
        "colab": {
          "base_uri": "https://localhost:8080/"
        },
        "id": "P-tQLBg-MkJG",
        "outputId": "05ac3b00-9cbd-4bfc-d7ee-63d9d926f233"
      },
      "execution_count": 11,
      "outputs": [
        {
          "output_type": "stream",
          "name": "stdout",
          "text": [
            "[1 2 3]\n"
          ]
        }
      ]
    },
    {
      "cell_type": "markdown",
      "source": [
        "Q5. Define 2 arrays arr1 and arr2 and compute the dot product\n",
        "\n"
      ],
      "metadata": {
        "id": "LC6XiTX2MkZY"
      }
    },
    {
      "cell_type": "code",
      "source": [],
      "metadata": {
        "id": "h482iIdhMlTc"
      },
      "execution_count": 12,
      "outputs": []
    },
    {
      "cell_type": "markdown",
      "source": [
        "Q6. Compute the mean, median, and standard deviation of a given NumPy array arr.\n",
        "\n"
      ],
      "metadata": {
        "id": "qzZGZ1j4Nf_L"
      }
    },
    {
      "cell_type": "code",
      "source": [],
      "metadata": {
        "id": "x8L_013QNgXj"
      },
      "execution_count": null,
      "outputs": []
    },
    {
      "cell_type": "markdown",
      "source": [
        "Q7. Stack two given NumPy arrays arr1 and arr2 horizontally.\n",
        "\n"
      ],
      "metadata": {
        "id": "50plxrGdNmyJ"
      }
    },
    {
      "cell_type": "code",
      "source": [
        "result = np.hstack((arr1, arr2))\n",
        "print(result)"
      ],
      "metadata": {
        "colab": {
          "base_uri": "https://localhost:8080/"
        },
        "id": "t7deXqTCNnEI",
        "outputId": "db31ceb2-b02c-42d4-a041-ad79badb3df2"
      },
      "execution_count": 13,
      "outputs": [
        {
          "output_type": "stream",
          "name": "stdout",
          "text": [
            "[1 2 3 4 5 6]\n"
          ]
        }
      ]
    },
    {
      "cell_type": "markdown",
      "source": [
        "Q8. Perform matrix multiplication on two given NumPy arrays arr1 of shape (3, 2) and arr2 of shape (2, 3).\n",
        "\n"
      ],
      "metadata": {
        "id": "ZOKCyCAXPCHE"
      }
    },
    {
      "cell_type": "code",
      "source": [
        "arr1 = np.array([[1, 2],[3, 4],[5, 6]])\n",
        "arr2 = np.array([[7, 8, 9],[10, 11, 12]])\n",
        "result = np.dot(arr1, arr2)\n",
        "print(result)"
      ],
      "metadata": {
        "colab": {
          "base_uri": "https://localhost:8080/"
        },
        "id": "OuacXypvPD2y",
        "outputId": "8cdcd3cb-5863-458f-b790-7bf9dd680247"
      },
      "execution_count": 14,
      "outputs": [
        {
          "output_type": "stream",
          "name": "stdout",
          "text": [
            "[[ 27  30  33]\n",
            " [ 61  68  75]\n",
            " [ 95 106 117]]\n"
          ]
        }
      ]
    },
    {
      "cell_type": "markdown",
      "source": [
        "Q9. Given a NumPy array arr, create a new array containing only the elements greater than 10.\n",
        "\n"
      ],
      "metadata": {
        "id": "DbbDxGCVPCVg"
      }
    },
    {
      "cell_type": "code",
      "source": [],
      "metadata": {
        "id": "9jIc2cmzPNde"
      },
      "execution_count": null,
      "outputs": []
    },
    {
      "cell_type": "markdown",
      "source": [
        "Q10. Sort the elements of a given NumPy array arr in descending order.\n",
        "\n"
      ],
      "metadata": {
        "id": "hC94Hru0PN7w"
      }
    },
    {
      "cell_type": "code",
      "source": [],
      "metadata": {
        "id": "pC4ss4YcPOSZ"
      },
      "execution_count": null,
      "outputs": []
    },
    {
      "cell_type": "markdown",
      "source": [
        "Pandas Practice Questions\n"
      ],
      "metadata": {
        "id": "ek3nm-1FPbGR"
      }
    },
    {
      "cell_type": "code",
      "source": [
        "# Use the  dataframe below for all the panda questions\n",
        "\n",
        "import pandas as pd\n",
        "data = {\n",
        "    'Name': ['John', 'Alice', 'Bob', 'Emily', 'David'],\n",
        "    'Age': [25, 30, 35, 28, 40],\n",
        "    'City': ['New York', 'Los Angeles', 'Chicago', 'San Francisco', 'Seattle'],\n",
        "    'Salary': [50000, 60000, 70000, 55000, 80000]\n",
        "}\n",
        "\n",
        "df = pd.DataFrame(data)\n",
        "\n",
        ""
      ],
      "metadata": {
        "id": "MpmzrBbSPgZY"
      },
      "execution_count": 31,
      "outputs": []
    },
    {
      "cell_type": "markdown",
      "source": [
        "Q1. Display the first 5 rows of the DataFrame.\n",
        "\n"
      ],
      "metadata": {
        "id": "krR3QfmyPbJ0"
      }
    },
    {
      "cell_type": "code",
      "source": [
        "df=pd.DataFrame(data)\n",
        "print(df.head())"
      ],
      "metadata": {
        "colab": {
          "base_uri": "https://localhost:8080/"
        },
        "id": "RdP6idoQPnq3",
        "outputId": "c6238de3-9660-43a5-f23e-477b381e5fb0"
      },
      "execution_count": 25,
      "outputs": [
        {
          "output_type": "stream",
          "name": "stdout",
          "text": [
            "    name  age           city  salary\n",
            "0   john   25        newyork   50000\n",
            "1  alice   30     losangeles   60000\n",
            "2    bob   35        chicago   70000\n",
            "3  emily   28  san francisco   55000\n",
            "4  david   40        seattle   80000\n"
          ]
        }
      ]
    },
    {
      "cell_type": "markdown",
      "source": [
        "Q2. Access and print the 'Age' column of the DataFrame.\n",
        "\n"
      ],
      "metadata": {
        "id": "CzPuJBQ6PoBP"
      }
    },
    {
      "cell_type": "code",
      "source": [
        "df = pd.DataFrame(data)\n",
        "print(df.head())"
      ],
      "metadata": {
        "colab": {
          "base_uri": "https://localhost:8080/"
        },
        "id": "dQYa3aouPoTs",
        "outputId": "3d590f60-90d8-466f-8b97-67cf3f4762b7"
      },
      "execution_count": 17,
      "outputs": [
        {
          "output_type": "stream",
          "name": "stdout",
          "text": [
            "   age\n",
            "0   25\n",
            "1   30\n",
            "2   35\n",
            "3   28\n",
            "4   40\n"
          ]
        }
      ]
    },
    {
      "cell_type": "markdown",
      "source": [
        "Q3. Sort the DataFrame based on the 'Salary' column in ascending order.\n",
        "\n"
      ],
      "metadata": {
        "id": "ohWR2b_mPolw"
      }
    },
    {
      "cell_type": "code",
      "source": [
        "df=pd.DataFrame(data)\n",
        "df_sorted = df.sort_values(by='salary')\n",
        "print(df_sorted)"
      ],
      "metadata": {
        "colab": {
          "base_uri": "https://localhost:8080/"
        },
        "id": "UxnK6K9YPo1n",
        "outputId": "a5c913f0-2b17-46f4-d135-4e81df0fec7f"
      },
      "execution_count": 24,
      "outputs": [
        {
          "output_type": "stream",
          "name": "stdout",
          "text": [
            "    name  age           city  salary\n",
            "0   john   25        newyork   50000\n",
            "3  emily   28  san francisco   55000\n",
            "1  alice   30     losangeles   60000\n",
            "2    bob   35        chicago   70000\n",
            "4  david   40        seattle   80000\n"
          ]
        }
      ]
    },
    {
      "cell_type": "markdown",
      "source": [
        "Q4. Calculate and display basic statistics (mean, median, min, max) for the 'Salary' column.\n"
      ],
      "metadata": {
        "id": "RzLoVOcuPpGd"
      }
    },
    {
      "cell_type": "code",
      "source": [
        "df=pd.DataFrame(data)\n",
        "salary_stats = df['salary'].describe()\n",
        "print(salary_stats[['mean','50%','min','max']])\n",
        "\n"
      ],
      "metadata": {
        "colab": {
          "base_uri": "https://localhost:8080/"
        },
        "id": "woBIGGpYPpVH",
        "outputId": "90b59597-acd8-4faf-f53e-bc9d246098f2"
      },
      "execution_count": 23,
      "outputs": [
        {
          "output_type": "stream",
          "name": "stdout",
          "text": [
            "mean    63000.0\n",
            "50%     60000.0\n",
            "min     50000.0\n",
            "max     80000.0\n",
            "Name: salary, dtype: float64\n"
          ]
        }
      ]
    },
    {
      "cell_type": "markdown",
      "source": [
        "Q5. Filter the DataFrame to show only the rows where the 'Age' is greater than 30.\n",
        "\n"
      ],
      "metadata": {
        "id": "AaNphYR4P9jZ"
      }
    },
    {
      "cell_type": "code",
      "source": [
        "df=pd.DataFrame(data)\n",
        "filtered_df = df[df['age']>30]\n",
        "print(filtered_df)\n"
      ],
      "metadata": {
        "colab": {
          "base_uri": "https://localhost:8080/"
        },
        "id": "2zu1Z6ogQSwu",
        "outputId": "1d8f0cdf-b5e3-4938-eb43-403150baedb6"
      },
      "execution_count": 22,
      "outputs": [
        {
          "output_type": "stream",
          "name": "stdout",
          "text": [
            "    name  age     city  salary\n",
            "2    bob   35  chicago   70000\n",
            "4  david   40  seattle   80000\n"
          ]
        }
      ]
    },
    {
      "cell_type": "markdown",
      "source": [
        "Q6. Add a new column 'Gender' to the DataFrame with values 'Male' for the first three rows and 'Female' for the last two rows.\n",
        "\n"
      ],
      "metadata": {
        "id": "jwD1dDvkP9l7"
      }
    },
    {
      "cell_type": "code",
      "source": [
        "df = pd.DataFrame(data)\n",
        "df['Gender'] = ['Male', 'Male', 'Male', 'Female', 'Female']\n",
        "print(df)"
      ],
      "metadata": {
        "colab": {
          "base_uri": "https://localhost:8080/"
        },
        "id": "5smy1YN8QXL2",
        "outputId": "494adb38-c314-426d-e0b9-f3a0963b6332"
      },
      "execution_count": 21,
      "outputs": [
        {
          "output_type": "stream",
          "name": "stdout",
          "text": [
            "    name  age           city  salary  Gender\n",
            "0   john   25        newyork   50000    Male\n",
            "1  alice   30     losangeles   60000    Male\n",
            "2    bob   35        chicago   70000    Male\n",
            "3  emily   28  san francisco   55000  Female\n",
            "4  david   40        seattle   80000  Female\n"
          ]
        }
      ]
    },
    {
      "cell_type": "markdown",
      "source": [
        "Q7. Group the DataFrame by 'City' and calculate the average salary in each city.\n",
        "\n"
      ],
      "metadata": {
        "id": "UoqakenbP9ol"
      }
    },
    {
      "cell_type": "code",
      "source": [
        "df = pd.DataFrame(data)\n",
        "average_salary_by_city = df.groupby('City')['Salary'].mean()\n",
        "print(average_salary_by_city)"
      ],
      "metadata": {
        "colab": {
          "base_uri": "https://localhost:8080/"
        },
        "id": "ICHIlazcQbFw",
        "outputId": "1dcbabee-4e90-44eb-b1ad-654f541b6d29"
      },
      "execution_count": 34,
      "outputs": [
        {
          "output_type": "stream",
          "name": "stdout",
          "text": [
            "City\n",
            "Chicago          70000.0\n",
            "Los Angeles      60000.0\n",
            "New York         50000.0\n",
            "San Francisco    55000.0\n",
            "Seattle          80000.0\n",
            "Name: Salary, dtype: float64\n"
          ]
        }
      ]
    },
    {
      "cell_type": "markdown",
      "source": [
        "Q8. Update the 'Salary' of the person named 'Bob' to 72000.\n",
        "\n"
      ],
      "metadata": {
        "id": "Mr7zntspP9rN"
      }
    },
    {
      "cell_type": "code",
      "source": [
        "import pandas as pd\n",
        "data = {'name':['john','alice','bob','emily','david'],\n",
        "        'age':[25,30,35,28,40],\n",
        "        'city':['newyork','losangeles','chicago','san francisco','seattle'],\n",
        "        'salary':[50000,60000,70000,55000,80000]}\n",
        "df=pd.DataFrame(data)\n",
        "df.loc[df['name']=='bob','salary']=72000\n",
        "print(df)\n",
        ""
      ],
      "metadata": {
        "colab": {
          "base_uri": "https://localhost:8080/"
        },
        "id": "eziL10i1QgL3",
        "outputId": "08a08f22-f3c8-4f02-d26d-877dc61c72c8"
      },
      "execution_count": 38,
      "outputs": [
        {
          "output_type": "stream",
          "name": "stdout",
          "text": [
            "    name  age           city  salary\n",
            "0   john   25        newyork   50000\n",
            "1  alice   30     losangeles   60000\n",
            "2    bob   35        chicago   72000\n",
            "3  emily   28  san francisco   55000\n",
            "4  david   40        seattle   80000\n"
          ]
        }
      ]
    },
    {
      "cell_type": "markdown",
      "source": [
        "Q9. Create a new DataFrame with additional information about the 'City' such as 'Population' and 'Area', then merge it with the existing DataFrame on the 'City' column.\n",
        "\n"
      ],
      "metadata": {
        "id": "Mm5bBGP7P9u7"
      }
    },
    {
      "cell_type": "code",
      "source": [
        "import pandas as pd\n",
        "data_existing = {'name':['john','alice','bob','emily','david'],\n",
        "        'age':[25,30,35,28,40],\n",
        "        'city':['newyork','losangeles','chicago','san francisco','seattle'],\n",
        "        'salary':[50000,60000,70000,55000,80000]}\n",
        "df_existing = pd.DataFrame(data_existing)\n",
        "data_new = {'city':['newyork','losangeles','chicago','san francisco','seattle'],\n",
        "        'population':[254697,254789,133687,15963,125489],'area':[548,254,657,654,125]}\n",
        "df_new = pd.DataFrame(data_new)\n",
        "merged_df = pd.merge(df_existing,df_new,on = 'city')\n",
        "print(merged_df)\n",
        ""
      ],
      "metadata": {
        "colab": {
          "base_uri": "https://localhost:8080/"
        },
        "id": "8q-nJA-mQjtu",
        "outputId": "c2d119d8-a1a1-4c7c-dc6b-ed2a0f610c81"
      },
      "execution_count": 36,
      "outputs": [
        {
          "output_type": "stream",
          "name": "stdout",
          "text": [
            "    name  age           city  salary  population  area\n",
            "0   john   25        newyork   50000      254697   548\n",
            "1  alice   30     losangeles   60000      254789   254\n",
            "2    bob   35        chicago   70000      133687   657\n",
            "3  emily   28  san francisco   55000       15963   654\n",
            "4  david   40        seattle   80000      125489   125\n"
          ]
        }
      ]
    },
    {
      "cell_type": "markdown",
      "source": [
        "Q10. Rename the 'Name' column of the DataFrame to 'Full Name' and display the updated DataFrame.\n",
        "\n"
      ],
      "metadata": {
        "id": "EJnMR1MgP9wg"
      }
    },
    {
      "cell_type": "code",
      "source": [
        "import pandas as pd\n",
        "data_existing = {'name':['john','alice','bob','emily','david'],\n",
        "        'age':[25,30,35,28,40],\n",
        "        'city':['newyork','losangeles','chicago','san francisco','seattle'],\n",
        "        'salary':[50000,60000,70000,55000,80000]}\n",
        "df_existing = pd.DataFrame(data_existing)\n",
        "df_existing = df_existing.rename(columns={'name':'full name'})\n",
        "print(df_existing)"
      ],
      "metadata": {
        "colab": {
          "base_uri": "https://localhost:8080/"
        },
        "id": "k-GiFvfSQm-5",
        "outputId": "dbac4ce3-4d88-4d19-830b-0ee1be3b2aeb"
      },
      "execution_count": 37,
      "outputs": [
        {
          "output_type": "stream",
          "name": "stdout",
          "text": [
            "  full name  age           city  salary\n",
            "0      john   25        newyork   50000\n",
            "1     alice   30     losangeles   60000\n",
            "2       bob   35        chicago   70000\n",
            "3     emily   28  san francisco   55000\n",
            "4     david   40        seattle   80000\n"
          ]
        }
      ]
    }
  ]
}