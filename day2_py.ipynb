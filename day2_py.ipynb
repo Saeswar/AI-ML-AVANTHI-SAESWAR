{
  "nbformat": 4,
  "nbformat_minor": 0,
  "metadata": {
    "colab": {
      "provenance": [],
      "authorship_tag": "ABX9TyPB4LrFlY6IeNoLiN8ywOWT",
      "include_colab_link": true
    },
    "kernelspec": {
      "name": "python3",
      "display_name": "Python 3"
    },
    "language_info": {
      "name": "python"
    }
  },
  "cells": [
    {
      "cell_type": "markdown",
      "metadata": {
        "id": "view-in-github",
        "colab_type": "text"
      },
      "source": [
        "<a href=\"https://colab.research.google.com/github/Saeswar/AI-ML-AVANTHI-SAESWAR/blob/main/day2_py.ipynb\" target=\"_parent\"><img src=\"https://colab.research.google.com/assets/colab-badge.svg\" alt=\"Open In Colab\"/></a>"
      ]
    },
    {
      "cell_type": "code",
      "execution_count": null,
      "metadata": {
        "colab": {
          "base_uri": "https://localhost:8080/"
        },
        "id": "N3Jdoi_AqaAK",
        "outputId": "79a6855d-1645-4358-e5df-d2758728f9d2"
      },
      "outputs": [
        {
          "output_type": "stream",
          "name": "stdout",
          "text": [
            "[3, 5, 8, 13, 21]\n",
            "[18, 6, 5, 4, 1]\n",
            "[3, 5, 8, 13, 21, 18, 6, 5, 4, 1]\n"
          ]
        }
      ],
      "source": [
        "n=[3,5,8,21,13,1,5,6,18,4]\n",
        "num1=n[0:5]\n",
        "num1.sort()\n",
        "num2=n[5:10]\n",
        "num2.sort()\n",
        "num2.reverse()\n",
        "print(num1)\n",
        "print(num2)\n",
        "num1 +=num2\n",
        "print(num1)\n"
      ]
    },
    {
      "cell_type": "code",
      "source": [
        "#sets\n",
        "n=[3,5,6,3,3,15,5,6,3,6,1]\n",
        "set(n)\n"
      ],
      "metadata": {
        "colab": {
          "base_uri": "https://localhost:8080/"
        },
        "id": "7yRBpAEB4On-",
        "outputId": "9daf97a2-99a0-47af-c6f0-c429e87cb841"
      },
      "execution_count": null,
      "outputs": [
        {
          "output_type": "execute_result",
          "data": {
            "text/plain": [
              "{1, 3, 5, 6, 15}"
            ]
          },
          "metadata": {},
          "execution_count": 25
        }
      ]
    },
    {
      "cell_type": "code",
      "source": [
        "n=[1,32,24,13,97,1,8,14,99,34,5,56,8,23]\n",
        "sum=0\n",
        "for i in n:\n",
        " if i%2 == 0:\n",
        "  sum +=i\n",
        "print(sum)\n",
        "\n"
      ],
      "metadata": {
        "colab": {
          "base_uri": "https://localhost:8080/"
        },
        "id": "88qVVdPf3X5D",
        "outputId": "d667424f-2c7d-4d99-9670-6cd2990c1979"
      },
      "execution_count": null,
      "outputs": [
        {
          "output_type": "stream",
          "name": "stdout",
          "text": [
            "176\n"
          ]
        }
      ]
    },
    {
      "cell_type": "code",
      "source": [
        " x=[1,32,24,13,97,1,8,14,99,34,5,56,8,23]\n",
        " for i in range(len(x)):\n",
        "  if i%2 == 0:\n",
        "    for j in range(i+1,len(x)):\n",
        "      if x[j]%2 == 1:\n",
        "        x[i] = x[j]\n",
        "        break\n",
        "  if i%2 == 0:\n",
        "     for j in range(i+1,len(x)):\n",
        "      if x[j]%2 == 0:\n",
        "        x[i] = x[j]\n",
        "        break\n",
        "print(x)\n",
        "\n"
      ],
      "metadata": {
        "id": "P1PRS_PzAIx2",
        "colab": {
          "base_uri": "https://localhost:8080/"
        },
        "outputId": "49605b07-c6ea-4a24-c0ec-453f3de8032c"
      },
      "execution_count": 17,
      "outputs": [
        {
          "output_type": "stream",
          "name": "stdout",
          "text": [
            "[32, 32, 8, 13, 8, 1, 14, 14, 34, 34, 56, 56, 23, 23]\n"
          ]
        }
      ]
    },
    {
      "cell_type": "code",
      "source": [
        "#amstrong number\n",
        "n = int(input('enter a nuber:'))\n",
        "copy = n\n",
        "sum = 0\n",
        "while n > 0:\n",
        "  x =n%10\n",
        "  cube = x**3\n",
        "  n = n//10\n",
        "  sum+=cube\n",
        "  if sum == copy:\n",
        "    print('amstrong')\n",
        "  else:\n",
        "      print('not amsrtong')"
      ],
      "metadata": {
        "id": "XqrD-yKeaEAv"
      },
      "execution_count": null,
      "outputs": []
    },
    {
      "cell_type": "code",
      "source": [
        "#dictionary\n",
        "my_dict = {\n",
        "    \"name\":\"saieswar\",\n",
        "    \"age\":21,\n",
        "    \"phone no\":7670854985,\n",
        "    \"fav food\":\"veg meals\"\n",
        "}\n",
        "print(my_dict)"
      ],
      "metadata": {
        "colab": {
          "base_uri": "https://localhost:8080/"
        },
        "id": "Ec1R1Rywf-o0",
        "outputId": "826d5eb0-2106-4d38-90cd-57155adde90c"
      },
      "execution_count": 25,
      "outputs": [
        {
          "output_type": "stream",
          "name": "stdout",
          "text": [
            "{'name': 'saieswar', 'age': 21, 'phone no': 7670854985, 'fav food': 'veg meals'}\n"
          ]
        }
      ]
    },
    {
      "cell_type": "code",
      "source": [],
      "metadata": {
        "id": "Vu1NWRVkjrph"
      },
      "execution_count": null,
      "outputs": []
    }
  ]
}