{
  "nbformat": 4,
  "nbformat_minor": 0,
  "metadata": {
    "colab": {
      "provenance": [],
      "authorship_tag": "ABX9TyMn6HISgEZX8GbZoT/znJlx",
      "include_colab_link": true
    },
    "kernelspec": {
      "name": "python3",
      "display_name": "Python 3"
    },
    "language_info": {
      "name": "python"
    }
  },
  "cells": [
    {
      "cell_type": "markdown",
      "metadata": {
        "id": "view-in-github",
        "colab_type": "text"
      },
      "source": [
        "<a href=\"https://colab.research.google.com/github/Saeswar/AI-ML-AVANTHI-SAESWAR/blob/main/day2_py.ipynb\" target=\"_parent\"><img src=\"https://colab.research.google.com/assets/colab-badge.svg\" alt=\"Open In Colab\"/></a>"
      ]
    },
    {
      "cell_type": "code",
      "execution_count": null,
      "metadata": {
        "colab": {
          "base_uri": "https://localhost:8080/"
        },
        "id": "N3Jdoi_AqaAK",
        "outputId": "79a6855d-1645-4358-e5df-d2758728f9d2"
      },
      "outputs": [
        {
          "output_type": "stream",
          "name": "stdout",
          "text": [
            "[3, 5, 8, 13, 21]\n",
            "[18, 6, 5, 4, 1]\n",
            "[3, 5, 8, 13, 21, 18, 6, 5, 4, 1]\n"
          ]
        }
      ],
      "source": [
        "n=[3,5,8,21,13,1,5,6,18,4]\n",
        "num1=n[0:5]\n",
        "num1.sort()\n",
        "num2=n[5:10]\n",
        "num2.sort()\n",
        "num2.reverse()\n",
        "print(num1)\n",
        "print(num2)\n",
        "num1 +=num2\n",
        "print(num1)\n"
      ]
    },
    {
      "cell_type": "code",
      "source": [
        "#sets\n",
        "n=[3,5,6,3,3,15,5,6,3,6,1]\n",
        "set(n)\n"
      ],
      "metadata": {
        "colab": {
          "base_uri": "https://localhost:8080/"
        },
        "id": "7yRBpAEB4On-",
        "outputId": "9daf97a2-99a0-47af-c6f0-c429e87cb841"
      },
      "execution_count": null,
      "outputs": [
        {
          "output_type": "execute_result",
          "data": {
            "text/plain": [
              "{1, 3, 5, 6, 15}"
            ]
          },
          "metadata": {},
          "execution_count": 25
        }
      ]
    },
    {
      "cell_type": "code",
      "source": [
        "n=[1,32,24,13,97,1,8,14,99,34,5,56,8,23]\n",
        "sum=0\n",
        "for i in n:\n",
        " if i%2 == 0:\n",
        "  sum +=i\n",
        "print(sum)\n",
        "\n"
      ],
      "metadata": {
        "colab": {
          "base_uri": "https://localhost:8080/"
        },
        "id": "88qVVdPf3X5D",
        "outputId": "d667424f-2c7d-4d99-9670-6cd2990c1979"
      },
      "execution_count": null,
      "outputs": [
        {
          "output_type": "stream",
          "name": "stdout",
          "text": [
            "176\n"
          ]
        }
      ]
    },
    {
      "cell_type": "code",
      "source": [
        " x=[1,32,24,13,97,1,8,14,99,34,5,56,8,23]\n",
        " for i in range(len(x)):\n",
        "  if i%2 == 0:\n",
        "    for j in range(i+1,len(x)):\n",
        "      if x[j]%2 == 1:\n",
        "        x[i] = x[j]\n",
        "        break\n",
        "  if i%2 == 0:\n",
        "     for j in range(i+1,len(x)):\n",
        "      if x[j]%2 == 0:\n",
        "        x[i] = x[j]\n",
        "        break\n",
        "print(x)\n",
        "\n"
      ],
      "metadata": {
        "id": "P1PRS_PzAIx2",
        "colab": {
          "base_uri": "https://localhost:8080/"
        },
        "outputId": "49605b07-c6ea-4a24-c0ec-453f3de8032c"
      },
      "execution_count": 17,
      "outputs": [
        {
          "output_type": "stream",
          "name": "stdout",
          "text": [
            "[32, 32, 8, 13, 8, 1, 14, 14, 34, 34, 56, 56, 23, 23]\n"
          ]
        }
      ]
    },
    {
      "cell_type": "code",
      "source": [
        "#amstrong number\n",
        "n = int(input('enter a nuber:'))\n",
        "copy = n\n",
        "sum = 0\n",
        "while n > 0:\n",
        "  x =n%10\n",
        "  cube = x**3\n",
        "  n = n//10\n",
        "  sum+=cube\n",
        "  if sum == copy:\n",
        "    print('amstrong')\n",
        "  else:\n",
        "      print('not amsrtong')"
      ],
      "metadata": {
        "id": "XqrD-yKeaEAv"
      },
      "execution_count": null,
      "outputs": []
    },
    {
      "cell_type": "code",
      "source": [
        "#dictionary\n",
        "my_dict = {\n",
        "    \"name\":\"saieswar\",\n",
        "    \"age\":21,\n",
        "    \"phone no\":7670854985,\n",
        "    \"fav food\":\"veg meals\"\n",
        "}\n",
        "print(my_dict)"
      ],
      "metadata": {
        "colab": {
          "base_uri": "https://localhost:8080/"
        },
        "id": "Ec1R1Rywf-o0",
        "outputId": "826d5eb0-2106-4d38-90cd-57155adde90c"
      },
      "execution_count": 25,
      "outputs": [
        {
          "output_type": "stream",
          "name": "stdout",
          "text": [
            "{'name': 'saieswar', 'age': 21, 'phone no': 7670854985, 'fav food': 'veg meals'}\n"
          ]
        }
      ]
    },
    {
      "cell_type": "code",
      "source": [
        "x=[3,3,5,5,3,3,7,7,5,3,7,5]\n",
        "dict={}\n",
        "distinct=set(x)\n",
        "for i in distinct:\n",
        "  dict[i]=0\n",
        "for i in range(len(x)):\n",
        "  dict[x[i]]+=1\n",
        "print(dict)\n",
        "\n"
      ],
      "metadata": {
        "colab": {
          "base_uri": "https://localhost:8080/"
        },
        "id": "Vu1NWRVkjrph",
        "outputId": "e0d2d782-451a-4122-a7b4-5caeb1652ff6"
      },
      "execution_count": 43,
      "outputs": [
        {
          "output_type": "stream",
          "name": "stdout",
          "text": [
            "{3: 5, 5: 4, 7: 3}\n"
          ]
        }
      ]
    },
    {
      "cell_type": "code",
      "source": [
        "x=[3,6,8,21,5,7,24,31,0,61]\n",
        "new_list =[]\n",
        "final = []\n",
        "for i in range(len(x)-1):\n",
        "  new_list.append(x[i]+x[i+1])"
      ],
      "metadata": {
        "id": "NqRCaPlJsAAP"
      },
      "execution_count": null,
      "outputs": []
    },
    {
      "cell_type": "code",
      "source": [
        "string = \"I like rashikanna she is very preety and nice acting\"\n",
        "print(\"original string:\",string)\n",
        "print(\"length:\",string)\n",
        "print(\"upper case:\",string.upper())\n",
        "print(\"lower case:\",string.lower())\n",
        "print(\"title case:\",string.title())\n",
        "print(\"swap case:\",string.swapcase())\n",
        "print(\"is upper case:\",string.isupper())\n"
      ],
      "metadata": {
        "colab": {
          "base_uri": "https://localhost:8080/"
        },
        "id": "P-RzWKZ-z_bO",
        "outputId": "689366a7-547c-4464-ff9e-295c716c2802"
      },
      "execution_count": 65,
      "outputs": [
        {
          "output_type": "stream",
          "name": "stdout",
          "text": [
            "original string: I like rashikanna she is very preety and nice acting\n",
            "length: I like rashikanna she is very preety and nice acting\n",
            "upper case: I LIKE RASHIKANNA SHE IS VERY PREETY AND NICE ACTING\n",
            "lower case: i like rashikanna she is very preety and nice acting\n",
            "title case: I Like Rashikanna She Is Very Preety And Nice Acting\n",
            "swap case: i LIKE RASHIKANNA SHE IS VERY PREETY AND NICE ACTING\n",
            "is upper case: False\n"
          ]
        }
      ]
    }
  ]
}