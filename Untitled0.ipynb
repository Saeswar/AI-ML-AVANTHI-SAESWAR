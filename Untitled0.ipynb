{
  "nbformat": 4,
  "nbformat_minor": 0,
  "metadata": {
    "colab": {
      "provenance": [],
      "authorship_tag": "ABX9TyOGHRQ6OUCGnjhFSjp/ebGh",
      "include_colab_link": true
    },
    "kernelspec": {
      "name": "python3",
      "display_name": "Python 3"
    },
    "language_info": {
      "name": "python"
    }
  },
  "cells": [
    {
      "cell_type": "markdown",
      "metadata": {
        "id": "view-in-github",
        "colab_type": "text"
      },
      "source": [
        "<a href=\"https://colab.research.google.com/github/Saeswar/AI-ML-AVANTHI-SAESWAR/blob/main/Untitled0.ipynb\" target=\"_parent\"><img src=\"https://colab.research.google.com/assets/colab-badge.svg\" alt=\"Open In Colab\"/></a>"
      ]
    },
    {
      "cell_type": "code",
      "execution_count": 24,
      "metadata": {
        "colab": {
          "base_uri": "https://localhost:8080/"
        },
        "id": "N3Jdoi_AqaAK",
        "outputId": "79a6855d-1645-4358-e5df-d2758728f9d2"
      },
      "outputs": [
        {
          "output_type": "stream",
          "name": "stdout",
          "text": [
            "[3, 5, 8, 13, 21]\n",
            "[18, 6, 5, 4, 1]\n",
            "[3, 5, 8, 13, 21, 18, 6, 5, 4, 1]\n"
          ]
        }
      ],
      "source": [
        "n=[3,5,8,21,13,1,5,6,18,4]\n",
        "num1=n[0:5]\n",
        "num1.sort()\n",
        "num2=n[5:10]\n",
        "num2.sort()\n",
        "num2.reverse()\n",
        "print(num1)\n",
        "print(num2)\n",
        "num1 +=num2\n",
        "print(num1)\n",
        ""
      ]
    }
  ]
}